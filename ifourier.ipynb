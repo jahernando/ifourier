{
 "cells": [
  {
   "cell_type": "markdown",
   "metadata": {},
   "source": [
    "# Inverse Fourier \n",
    "\n",
    "The Inverse fourier reconstruction is a temptative algorithm to reconstruct tracks in the NEXT experiment.\n",
    "\n",
    "It is based on recovering an original 2D image, called source ($s(x,y)$), using the measured image ($m(x,y)$), if the convolution function ($h(x,y)$) is known.\n",
    "\n",
    "$\\displaystyle m(x,y) = s(x,y) \\odot h(x,y) $\n",
    "\n",
    "Using the inverse fourier:\n",
    "\n",
    "$\\displaystyle s(x,y) = F^{-1} [ \\, F m(x,y) / \\, Fh (x,y) ]$\n",
    "\n",
    "Where $F$ is the Fourier transform.\n",
    "\n"
   ]
  },
  {
   "cell_type": "markdown",
   "metadata": {},
   "source": [
    "## Image generation\n",
    "\n",
    "We generate random points with an intensity in a given range in a $n\\times n$ grid. Each point is then smaeared with a gaussian with sigma $s$"
   ]
  },
  {
   "cell_type": "markdown",
   "metadata": {},
   "source": [
    "### Utilities with arrays "
   ]
  },
  {
   "cell_type": "code",
   "execution_count": 1,
   "metadata": {},
   "outputs": [],
   "source": [
    "#from __future__ import print\n",
    "import numpy as  np\n",
    "from scipy.stats import norm\n",
    "from copy import deepcopy\n",
    "\n",
    "def arnull(ndim=2,size=11):\n",
    "    \"\"\" create a null array of dimension ndim and given size\n",
    "    \"\"\"\n",
    "    kk = [0.]*size\n",
    "    for i in range(2,ndim):\n",
    "        kk = [kk,]*size\n",
    "    ar = np.array([kk,]*size)\n",
    "    return ar\n",
    "\n",
    "def argaus(ndim=2,size=11,sigmas=[1.,1.]):\n",
    "    \"\"\" create an n-dim array with gaussian in each proyection. \n",
    "    The gaussian are centered in the middle of the array with a given sigmas\n",
    "    \"\"\"\n",
    "    if (len(sigmas) != ndim): raise IndexError('not squared array')\n",
    "    ar = arnull(ndim,size)\n",
    "    indexes = range(size)\n",
    "    i0 = int(size/2.)\n",
    "    xs = map(lambda k: map(lambda i: float(norm.pdf(float(i-i0)/sigmas[k])),indexes), range(ndim))\n",
    "    def ijkprod(x,xar,ilevel):\n",
    "        xi = x\n",
    "        for k in range(size):\n",
    "            xk = float(xs[ilevel][k])\n",
    "            if (ilevel == ndim-1): xar[k] = xi*xk\n",
    "            else: ijkprod(xi*xk,xar[k],ilevel+1)\n",
    "    ijkprod(1.,ar,0)\n",
    "    return ar \n",
    "\n",
    "def arnorma(ar):\n",
    "    \"\"\" returns the norma of the array, that is, the sum of all its elements.\n",
    "    \"\"\"\n",
    "    ndim = len(ar.shape)\n",
    "    x = ar\n",
    "    for i in range(ndim): x=sum(x)\n",
    "    return x\n",
    "\n",
    "def arnormalize(ar):\n",
    "    \"\"\" normalize the array, that is, the sum of it elements is one.\n",
    "    \"\"\"\n",
    "    norma = arnorma(ar)\n",
    "    ar = ar/norma\n",
    "    return ar\n",
    "\n",
    "def arlast(ar):\n",
    "    \"\"\" move the last slice of the array into the first elements, move the rest one index.\n",
    "    This method is required to re-establish the array properly after use the fourier scipy methods.\n",
    "    \"\"\"\n",
    "    ss = ar.shape\n",
    "    ndim, size = len(ss),ss[0]\n",
    "    if (sum(ss) != ndim*size): \n",
    "        raise IndexError('not squared array!')\n",
    "    def ilast(xar,xor,ilevel):\n",
    "        xar[0]=xor[-1]\n",
    "        for i in range(size-1): \n",
    "            xar[i+1]=xor[i]\n",
    "        if (ilevel==ndim-1): return\n",
    "        for i in range(size):\n",
    "            ilast(xar[i],xor[i],ilevel+1)\n",
    "    br = deepcopy(ar)\n",
    "    cr = deepcopy(ar)\n",
    "    ilast(br,cr,0)\n",
    "    return br"
   ]
  },
  {
   "cell_type": "code",
   "execution_count": 2,
   "metadata": {},
   "outputs": [],
   "source": [
    "#check that the functions works\n",
    "def archeck():\n",
    "    print(\"# null array\")\n",
    "    a = arnull(ndim=3,size=2)\n",
    "    print('a = ',a)\n",
    "\n",
    "    print(\"# gaussian array\")\n",
    "    ag = argaus(ndim=3,size=3,sigmas=[0.5,0.5,0.5])\n",
    "    print('ag = ',ag)\n",
    "\n",
    "    print(\"# norma of the array\")\n",
    "    norma = arnorma(ag)\n",
    "    print('ag norma = ',norma)\n",
    "    print(\"# normalize the array\")\n",
    "    ag = arnormalize(ag)\n",
    "    print('ag normalized ',arnorma(ag)) \n",
    "\n",
    "    print(\"# move the last items to first and move the rest of elements one\")\n",
    "    ag = argaus(ndim=3,size=3,sigmas=[0.5,0.5,0.5])\n",
    "    print(' ag original = ',ag)\n",
    "    ag2 = arlast(ag)\n",
    "    print(' ag changed = ',ag2)\n",
    "\n",
    "    return"
   ]
  },
  {
   "cell_type": "code",
   "execution_count": 3,
   "metadata": {},
   "outputs": [
    {
     "name": "stdout",
     "output_type": "stream",
     "text": [
      "# null array\n",
      "('a = ', array([[[ 0.,  0.],\n",
      "        [ 0.,  0.]],\n",
      "\n",
      "       [[ 0.,  0.],\n",
      "        [ 0.,  0.]]]))\n",
      "# gaussian array\n",
      "('ag = ', array([[[ 0.00015738,  0.00116293,  0.00015738],\n",
      "        [ 0.00116293,  0.00859293,  0.00116293],\n",
      "        [ 0.00015738,  0.00116293,  0.00015738]],\n",
      "\n",
      "       [[ 0.00116293,  0.00859293,  0.00116293],\n",
      "        [ 0.00859293,  0.06349364,  0.00859293],\n",
      "        [ 0.00116293,  0.00859293,  0.00116293]],\n",
      "\n",
      "       [[ 0.00015738,  0.00116293,  0.00015738],\n",
      "        [ 0.00116293,  0.00859293,  0.00116293],\n",
      "        [ 0.00015738,  0.00116293,  0.00015738]]]))\n",
      "# norma of the array\n",
      "('ag norma = ', 0.13026540914780169)\n",
      "# normalize the array\n",
      "('ag normalized ', 1.0)\n",
      "# move the last items to first and move the rest of elements one\n",
      "(' ag original = ', array([[[ 0.00015738,  0.00116293,  0.00015738],\n",
      "        [ 0.00116293,  0.00859293,  0.00116293],\n",
      "        [ 0.00015738,  0.00116293,  0.00015738]],\n",
      "\n",
      "       [[ 0.00116293,  0.00859293,  0.00116293],\n",
      "        [ 0.00859293,  0.06349364,  0.00859293],\n",
      "        [ 0.00116293,  0.00859293,  0.00116293]],\n",
      "\n",
      "       [[ 0.00015738,  0.00116293,  0.00015738],\n",
      "        [ 0.00116293,  0.00859293,  0.00116293],\n",
      "        [ 0.00015738,  0.00116293,  0.00015738]]]))\n",
      "(' ag changed = ', array([[[ 0.00015738,  0.00015738,  0.00116293],\n",
      "        [ 0.00116293,  0.00116293,  0.00859293],\n",
      "        [ 0.00015738,  0.00015738,  0.00116293]],\n",
      "\n",
      "       [[ 0.00116293,  0.00116293,  0.00859293],\n",
      "        [ 0.00859293,  0.00859293,  0.06349364],\n",
      "        [ 0.00116293,  0.00116293,  0.00859293]],\n",
      "\n",
      "       [[ 0.00015738,  0.00015738,  0.00116293],\n",
      "        [ 0.00116293,  0.00116293,  0.00859293],\n",
      "        [ 0.00015738,  0.00015738,  0.00116293]]]))\n"
     ]
    }
   ],
   "source": [
    "archeck()"
   ]
  },
  {
   "cell_type": "markdown",
   "metadata": {},
   "source": [
    "### fourier methods"
   ]
  },
  {
   "cell_type": "code",
   "execution_count": 4,
   "metadata": {
    "collapsed": true
   },
   "outputs": [],
   "source": [
    "import numpy as np\n",
    "from scipy.fftpack import fftn,ifftn,fftshift\n",
    "import numpy as np\n",
    "from copy import deepcopy\n",
    "import Sequences\n",
    "\n",
    "# aliases\n",
    "SH  = np.fft.fftshift\n",
    "FT  = lambda x:  ( fftn( x ) ) #         Fourier transform\n",
    "IFT = lambda x:  fftshift( ifftn( x )  ) # Inverse Fourier transform\n",
    "\n",
    "def armesfourier(sig,res):\n",
    "    \"\"\" return an array with the measurement providing the signal and resolution arrays\n",
    "    \"\"\"\n",
    "    fsig = FT(sig)\n",
    "    fres = FT(res)\n",
    "    fmes = Sequences.Multiply(fsig,fres)\n",
    "    mes = IFT(fmes)\n",
    "    mes = Sequences.Apply(mes,lambda x: x.real)\n",
    "    mes = arlast(mes)\n",
    "    return mes\n",
    "\n",
    "def arrecfourier(mes,res):\n",
    "    \"\"\" return the signal array providing the measurement and the resolution arrays\n",
    "    \"\"\"\n",
    "    fmes = FT(mes)\n",
    "    fres = FT(res)\n",
    "    fresinv = Sequences.Apply(fres,lambda x: 1/x)\n",
    "    fsig = Sequences.Multiply(fmes,fresinv)\n",
    "    sig = IFT(fsig)\n",
    "    sig = Sequences.Apply(sig,lambda x: x.real)\n",
    "    return sig"
   ]
  },
  {
   "cell_type": "code",
   "execution_count": 5,
   "metadata": {
    "collapsed": true
   },
   "outputs": [],
   "source": [
    "%matplotlib inline\n",
    "import matplotlib.pyplot as plt"
   ]
  },
  {
   "cell_type": "code",
   "execution_count": 6,
   "metadata": {},
   "outputs": [
    {
     "name": "stdout",
     "output_type": "stream",
     "text": [
      "('xs = ', [1, 1, 0, 0, -1, 1, 0, -1, 0, -1])\n",
      "('snake = ', [(7, 7), (8, 6), (8, 6), (8, 7), (7, 6), (8, 7), (8, 6), (7, 6), (7, 6), (6, 7)])\n"
     ]
    },
    {
     "data": {
      "image/png": "[encoded data removed]",
      "text/plain": [
       "<matplotlib.figure.Figure at 0x10bb2fc50>"
      ]
     },
     "metadata": {},
     "output_type": "display_data"
    }
   ],
   "source": [
    "import random\n",
    "\n",
    "def generate_image(size,xs):\n",
    "    ar = arnull(2,size)\n",
    "    for xi,yi in xs: ar[xi][yi]=1.\n",
    "    return ar\n",
    "\n",
    "def generate_snake(x0,y0,size):\n",
    "    xs = random.sample([-1,0,1]*size,size)\n",
    "    ys = random.sample([-1,0,1]*size,size)\n",
    "    print('xs = ',xs)\n",
    "    xs[0],ys[0] = x0,y0\n",
    "    for i in range(1,size): \n",
    "        xs[i] = xs[i]+xs[i-1]\n",
    "        ys[i] = ys[i]+ys[i-1]\n",
    "    zz = zip(xs,ys)\n",
    "    return zz\n",
    " \n",
    "size=15\n",
    "res = argaus(2,size,[1.,1.])\n",
    "snake = generate_snake(7,7,10)\n",
    "print('snake = ',snake)\n",
    "sig = generate_image(size,snake)\n",
    "sig = armesfourier(sig,res)\n",
    "mes = armesfourier(sig,res)\n",
    "rec = arrecfourier(mes,res)\n",
    "\n",
    "def arplot(ar,index):\n",
    "    plt.subplot(220+index)\n",
    "    plt.imshow(ar,interpolation='nearest')\n",
    "    plt.colorbar()\n",
    "    return\n",
    "\n",
    "arplot(res,1)\n",
    "arplot(sig,2)\n",
    "arplot(mes,3)\n",
    "arplot(rec,4)\n",
    "plt.savefig('fourier.png')\n"
   ]
  },
  {
   "cell_type": "code",
   "execution_count": null,
   "metadata": {
    "collapsed": true
   },
   "outputs": [],
   "source": []
  }
 ],
 "metadata": {
  "anaconda-cloud": {},
  "kernelspec": {
   "display_name": "Python 3",
   "language": "python",
   "name": "python3"
  },
  "language_info": {
   "codemirror_mode": {
    "name": "ipython",
    "version": 3
   },
   "file_extension": ".py",
   "mimetype": "text/x-python",
   "name": "python",
   "nbconvert_exporter": "python",
   "pygments_lexer": "ipython3",
   "version": "3.6.1"
  }
 },
 "nbformat": 4,
 "nbformat_minor": 1
}
